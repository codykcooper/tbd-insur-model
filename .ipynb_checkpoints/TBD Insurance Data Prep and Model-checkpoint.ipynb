{
 "cells": [
  {
   "cell_type": "code",
   "execution_count": 2,
   "metadata": {},
   "outputs": [],
   "source": [
    "import numpy as np \n",
    "import pandas as pd \n",
    "import matplotlib.pyplot as plt\n",
    "import seaborn as sns\n",
    "import warnings\n",
    "warnings.filterwarnings(\"ignore\")\n",
    "\n",
    "from sklearn.model_selection import train_test_split\n",
    "from sklearn.preprocessing import MinMaxScaler\n",
    "from sklearn.ensemble import RandomForestClassifier\n",
    "from sklearn.metrics import accuracy_score, recall_score, confusion_matrix\n",
    "\n",
    "from imblearn.over_sampling import SMOTE \n",
    "\n",
    "from pandas_profiling import ProfileReport"
   ]
  },
  {
   "cell_type": "markdown",
   "metadata": {},
   "source": [
    "# EDA Tools"
   ]
  },
  {
   "cell_type": "code",
   "execution_count": 3,
   "metadata": {},
   "outputs": [],
   "source": [
    "df=pd.read_csv('data/travel_insurance.csv')\n",
    "df['claim_num'] = [0 if x == 'No' else 1 for x in df['claim']]"
   ]
  },
  {
   "cell_type": "markdown",
   "metadata": {},
   "source": [
    "### Pandas profiling is being used to automatically generate exploratory analysis of the data set. \n",
    "\n",
    "Main goals of the report are to identify:\n",
    "\n",
    "- Any missing or unusual characteristics (e.g., skew, low incidence, etc.) in the data\n",
    "- Get a sense of correlations between variables (both features and outcomes)\n",
    "- miscelaneous data issues"
   ]
  },
  {
   "cell_type": "code",
   "execution_count": 4,
   "metadata": {},
   "outputs": [],
   "source": [
    "profile = ProfileReport(df, title='tbd Insur Profiling Report', explorative=True)"
   ]
  },
  {
   "cell_type": "markdown",
   "metadata": {},
   "source": [
    "The below code will save the exploratory data analysis to an html file that can be evaluated for issues. "
   ]
  },
  {
   "cell_type": "code",
   "execution_count": 6,
   "metadata": {
    "collapsed": true
   },
   "outputs": [
    {
     "data": {
      "application/vnd.jupyter.widget-view+json": {
       "model_id": "f428fecd4b1240dfba382f277bf9b75c",
       "version_major": 2,
       "version_minor": 0
      },
      "text/plain": [
       "HBox(children=(HTML(value='Generate report structure'), FloatProgress(value=0.0, max=1.0), HTML(value='')))"
      ]
     },
     "metadata": {},
     "output_type": "display_data"
    },
    {
     "name": "stdout",
     "output_type": "stream",
     "text": [
      "\n"
     ]
    },
    {
     "data": {
      "application/vnd.jupyter.widget-view+json": {
       "model_id": "c42625b942a4484bacb9bc815b4664e1",
       "version_major": 2,
       "version_minor": 0
      },
      "text/plain": [
       "HBox(children=(HTML(value='Render HTML'), FloatProgress(value=0.0, max=1.0), HTML(value='')))"
      ]
     },
     "metadata": {},
     "output_type": "display_data"
    },
    {
     "name": "stdout",
     "output_type": "stream",
     "text": [
      "\n"
     ]
    },
    {
     "data": {
      "application/vnd.jupyter.widget-view+json": {
       "model_id": "2d9a1b4246244e3ba846343a1db54b56",
       "version_major": 2,
       "version_minor": 0
      },
      "text/plain": [
       "HBox(children=(HTML(value='Export report to file'), FloatProgress(value=0.0, max=1.0), HTML(value='')))"
      ]
     },
     "metadata": {},
     "output_type": "display_data"
    },
    {
     "name": "stdout",
     "output_type": "stream",
     "text": [
      "\n"
     ]
    },
    {
     "data": {
      "text/plain": [
       "''"
      ]
     },
     "execution_count": 6,
     "metadata": {},
     "output_type": "execute_result"
    }
   ],
   "source": [
    "profile.to_file(\"tbd-insur eda output.html\")\n",
    ";"
   ]
  },
  {
   "cell_type": "markdown",
   "metadata": {},
   "source": [
    "### Based on assessment of the report there are several issues that need to be addressed before modeling:\n",
    "- High missingness in Gender variable\n",
    "- High cardinality in destination variable. For simplicity, will likely bin to high medium low destination categories.\n",
    "- Duration is highly skewed and contains missing values\n",
    "\n",
    "If interested in this assessment, you can view report output in \"tbd-insur eda output.html\" in this repo"
   ]
  },
  {
   "cell_type": "markdown",
   "metadata": {},
   "source": [
    "## Cleaning Data for modeling\n",
    "\n"
   ]
  },
  {
   "cell_type": "markdown",
   "metadata": {},
   "source": [
    "### Cleaning gender column\n",
    "There are three categories in the gender column, male, female, and missing. \n",
    "There may be useful information in this column, so we'll create two columns, one for male and one for female, to compare against missing in the final model. "
   ]
  },
  {
   "cell_type": "code",
   "execution_count": 5,
   "metadata": {},
   "outputs": [],
   "source": [
    "df=pd.concat([df,pd.get_dummies(df['gender'])], axis = 1)"
   ]
  },
  {
   "cell_type": "code",
   "execution_count": 6,
   "metadata": {},
   "outputs": [
    {
     "data": {
      "text/html": [
       "<div>\n",
       "<style scoped>\n",
       "    .dataframe tbody tr th:only-of-type {\n",
       "        vertical-align: middle;\n",
       "    }\n",
       "\n",
       "    .dataframe tbody tr th {\n",
       "        vertical-align: top;\n",
       "    }\n",
       "\n",
       "    .dataframe thead th {\n",
       "        text-align: right;\n",
       "    }\n",
       "</style>\n",
       "<table border=\"1\" class=\"dataframe\">\n",
       "  <thead>\n",
       "    <tr style=\"text-align: right;\">\n",
       "      <th></th>\n",
       "      <th>agency</th>\n",
       "      <th>agency_type</th>\n",
       "      <th>distribution_channel</th>\n",
       "      <th>product_name</th>\n",
       "      <th>claim</th>\n",
       "      <th>duration</th>\n",
       "      <th>destination</th>\n",
       "      <th>net_sales</th>\n",
       "      <th>commision</th>\n",
       "      <th>gender</th>\n",
       "      <th>age</th>\n",
       "      <th>claim_num</th>\n",
       "      <th>F</th>\n",
       "      <th>M</th>\n",
       "    </tr>\n",
       "  </thead>\n",
       "  <tbody>\n",
       "    <tr>\n",
       "      <th>0</th>\n",
       "      <td>CBH</td>\n",
       "      <td>Travel Agency</td>\n",
       "      <td>Offline</td>\n",
       "      <td>Comprehensive Plan</td>\n",
       "      <td>No</td>\n",
       "      <td>186</td>\n",
       "      <td>MALAYSIA</td>\n",
       "      <td>-29.0</td>\n",
       "      <td>9.57</td>\n",
       "      <td>F</td>\n",
       "      <td>81</td>\n",
       "      <td>0</td>\n",
       "      <td>1</td>\n",
       "      <td>0</td>\n",
       "    </tr>\n",
       "    <tr>\n",
       "      <th>1</th>\n",
       "      <td>CBH</td>\n",
       "      <td>Travel Agency</td>\n",
       "      <td>Offline</td>\n",
       "      <td>Comprehensive Plan</td>\n",
       "      <td>No</td>\n",
       "      <td>186</td>\n",
       "      <td>MALAYSIA</td>\n",
       "      <td>-29.0</td>\n",
       "      <td>9.57</td>\n",
       "      <td>F</td>\n",
       "      <td>71</td>\n",
       "      <td>0</td>\n",
       "      <td>1</td>\n",
       "      <td>0</td>\n",
       "    </tr>\n",
       "    <tr>\n",
       "      <th>2</th>\n",
       "      <td>CWT</td>\n",
       "      <td>Travel Agency</td>\n",
       "      <td>Online</td>\n",
       "      <td>Rental Vehicle Excess Insurance</td>\n",
       "      <td>No</td>\n",
       "      <td>65</td>\n",
       "      <td>AUSTRALIA</td>\n",
       "      <td>-49.5</td>\n",
       "      <td>29.70</td>\n",
       "      <td>NaN</td>\n",
       "      <td>32</td>\n",
       "      <td>0</td>\n",
       "      <td>0</td>\n",
       "      <td>0</td>\n",
       "    </tr>\n",
       "    <tr>\n",
       "      <th>3</th>\n",
       "      <td>CWT</td>\n",
       "      <td>Travel Agency</td>\n",
       "      <td>Online</td>\n",
       "      <td>Rental Vehicle Excess Insurance</td>\n",
       "      <td>No</td>\n",
       "      <td>60</td>\n",
       "      <td>AUSTRALIA</td>\n",
       "      <td>-39.6</td>\n",
       "      <td>23.76</td>\n",
       "      <td>NaN</td>\n",
       "      <td>32</td>\n",
       "      <td>0</td>\n",
       "      <td>0</td>\n",
       "      <td>0</td>\n",
       "    </tr>\n",
       "    <tr>\n",
       "      <th>4</th>\n",
       "      <td>CWT</td>\n",
       "      <td>Travel Agency</td>\n",
       "      <td>Online</td>\n",
       "      <td>Rental Vehicle Excess Insurance</td>\n",
       "      <td>No</td>\n",
       "      <td>79</td>\n",
       "      <td>ITALY</td>\n",
       "      <td>-19.8</td>\n",
       "      <td>11.88</td>\n",
       "      <td>NaN</td>\n",
       "      <td>41</td>\n",
       "      <td>0</td>\n",
       "      <td>0</td>\n",
       "      <td>0</td>\n",
       "    </tr>\n",
       "  </tbody>\n",
       "</table>\n",
       "</div>"
      ],
      "text/plain": [
       "  agency    agency_type distribution_channel                     product_name  \\\n",
       "0    CBH  Travel Agency              Offline               Comprehensive Plan   \n",
       "1    CBH  Travel Agency              Offline               Comprehensive Plan   \n",
       "2    CWT  Travel Agency               Online  Rental Vehicle Excess Insurance   \n",
       "3    CWT  Travel Agency               Online  Rental Vehicle Excess Insurance   \n",
       "4    CWT  Travel Agency               Online  Rental Vehicle Excess Insurance   \n",
       "\n",
       "  claim  duration destination  net_sales  commision gender  age  claim_num  F  \\\n",
       "0    No       186    MALAYSIA      -29.0       9.57      F   81          0  1   \n",
       "1    No       186    MALAYSIA      -29.0       9.57      F   71          0  1   \n",
       "2    No        65   AUSTRALIA      -49.5      29.70    NaN   32          0  0   \n",
       "3    No        60   AUSTRALIA      -39.6      23.76    NaN   32          0  0   \n",
       "4    No        79       ITALY      -19.8      11.88    NaN   41          0  0   \n",
       "\n",
       "   M  \n",
       "0  0  \n",
       "1  0  \n",
       "2  0  \n",
       "3  0  \n",
       "4  0  "
      ]
     },
     "execution_count": 6,
     "metadata": {},
     "output_type": "execute_result"
    }
   ],
   "source": [
    "df.head()"
   ]
  },
  {
   "cell_type": "markdown",
   "metadata": {},
   "source": [
    "### Dealing with High Cardinality in Destination\n",
    "There are a lot of values in the destination column (makes sense, lots of countries in the world!).\n",
    "\n",
    "The following code will create a new column with frequency of visits to destination (i.e., Count of destination / number of rows in data set). The goal of this column is to indicate if more or less frequent destinations are associated with more or fewer claims(i.e., popularity of country in this data set). \n",
    "\n",
    "There are several notable limits to this if it were used in production:\n",
    "- The desination frequency number would need to be fixed or re-calculated on a regular basis.\n",
    "- If frequencies are re-calculated models would need to be re-estimted to account for changes in underlying data generating process. \n",
    "- A better soltion would be to bin on high / medium / low destination countries, but would require more complete data set. \n",
    "\n",
    "These limitations seem reasonable given the demo context. "
   ]
  },
  {
   "cell_type": "code",
   "execution_count": 7,
   "metadata": {},
   "outputs": [],
   "source": [
    "dest_freq = df.groupby('destination').size()/len(df)"
   ]
  },
  {
   "cell_type": "code",
   "execution_count": 8,
   "metadata": {},
   "outputs": [],
   "source": [
    "# Map the frequency counts back to the destination\n",
    "df.loc[:,'destination_freq'] = df['destination'].map(dest_freq)"
   ]
  },
  {
   "cell_type": "code",
   "execution_count": 9,
   "metadata": {},
   "outputs": [
    {
     "data": {
      "text/html": [
       "<div>\n",
       "<style scoped>\n",
       "    .dataframe tbody tr th:only-of-type {\n",
       "        vertical-align: middle;\n",
       "    }\n",
       "\n",
       "    .dataframe tbody tr th {\n",
       "        vertical-align: top;\n",
       "    }\n",
       "\n",
       "    .dataframe thead th {\n",
       "        text-align: right;\n",
       "    }\n",
       "</style>\n",
       "<table border=\"1\" class=\"dataframe\">\n",
       "  <thead>\n",
       "    <tr style=\"text-align: right;\">\n",
       "      <th></th>\n",
       "      <th>agency</th>\n",
       "      <th>agency_type</th>\n",
       "      <th>distribution_channel</th>\n",
       "      <th>product_name</th>\n",
       "      <th>claim</th>\n",
       "      <th>duration</th>\n",
       "      <th>destination</th>\n",
       "      <th>net_sales</th>\n",
       "      <th>commision</th>\n",
       "      <th>gender</th>\n",
       "      <th>age</th>\n",
       "      <th>claim_num</th>\n",
       "      <th>F</th>\n",
       "      <th>M</th>\n",
       "      <th>destination_freq</th>\n",
       "    </tr>\n",
       "  </thead>\n",
       "  <tbody>\n",
       "    <tr>\n",
       "      <th>0</th>\n",
       "      <td>CBH</td>\n",
       "      <td>Travel Agency</td>\n",
       "      <td>Offline</td>\n",
       "      <td>Comprehensive Plan</td>\n",
       "      <td>No</td>\n",
       "      <td>186</td>\n",
       "      <td>MALAYSIA</td>\n",
       "      <td>-29.0</td>\n",
       "      <td>9.57</td>\n",
       "      <td>F</td>\n",
       "      <td>81</td>\n",
       "      <td>0</td>\n",
       "      <td>1</td>\n",
       "      <td>0</td>\n",
       "      <td>0.093642</td>\n",
       "    </tr>\n",
       "    <tr>\n",
       "      <th>1</th>\n",
       "      <td>CBH</td>\n",
       "      <td>Travel Agency</td>\n",
       "      <td>Offline</td>\n",
       "      <td>Comprehensive Plan</td>\n",
       "      <td>No</td>\n",
       "      <td>186</td>\n",
       "      <td>MALAYSIA</td>\n",
       "      <td>-29.0</td>\n",
       "      <td>9.57</td>\n",
       "      <td>F</td>\n",
       "      <td>71</td>\n",
       "      <td>0</td>\n",
       "      <td>1</td>\n",
       "      <td>0</td>\n",
       "      <td>0.093642</td>\n",
       "    </tr>\n",
       "    <tr>\n",
       "      <th>2</th>\n",
       "      <td>CWT</td>\n",
       "      <td>Travel Agency</td>\n",
       "      <td>Online</td>\n",
       "      <td>Rental Vehicle Excess Insurance</td>\n",
       "      <td>No</td>\n",
       "      <td>65</td>\n",
       "      <td>AUSTRALIA</td>\n",
       "      <td>-49.5</td>\n",
       "      <td>29.70</td>\n",
       "      <td>NaN</td>\n",
       "      <td>32</td>\n",
       "      <td>0</td>\n",
       "      <td>0</td>\n",
       "      <td>0</td>\n",
       "      <td>0.058333</td>\n",
       "    </tr>\n",
       "    <tr>\n",
       "      <th>3</th>\n",
       "      <td>CWT</td>\n",
       "      <td>Travel Agency</td>\n",
       "      <td>Online</td>\n",
       "      <td>Rental Vehicle Excess Insurance</td>\n",
       "      <td>No</td>\n",
       "      <td>60</td>\n",
       "      <td>AUSTRALIA</td>\n",
       "      <td>-39.6</td>\n",
       "      <td>23.76</td>\n",
       "      <td>NaN</td>\n",
       "      <td>32</td>\n",
       "      <td>0</td>\n",
       "      <td>0</td>\n",
       "      <td>0</td>\n",
       "      <td>0.058333</td>\n",
       "    </tr>\n",
       "    <tr>\n",
       "      <th>4</th>\n",
       "      <td>CWT</td>\n",
       "      <td>Travel Agency</td>\n",
       "      <td>Online</td>\n",
       "      <td>Rental Vehicle Excess Insurance</td>\n",
       "      <td>No</td>\n",
       "      <td>79</td>\n",
       "      <td>ITALY</td>\n",
       "      <td>-19.8</td>\n",
       "      <td>11.88</td>\n",
       "      <td>NaN</td>\n",
       "      <td>41</td>\n",
       "      <td>0</td>\n",
       "      <td>0</td>\n",
       "      <td>0</td>\n",
       "      <td>0.007185</td>\n",
       "    </tr>\n",
       "  </tbody>\n",
       "</table>\n",
       "</div>"
      ],
      "text/plain": [
       "  agency    agency_type distribution_channel                     product_name  \\\n",
       "0    CBH  Travel Agency              Offline               Comprehensive Plan   \n",
       "1    CBH  Travel Agency              Offline               Comprehensive Plan   \n",
       "2    CWT  Travel Agency               Online  Rental Vehicle Excess Insurance   \n",
       "3    CWT  Travel Agency               Online  Rental Vehicle Excess Insurance   \n",
       "4    CWT  Travel Agency               Online  Rental Vehicle Excess Insurance   \n",
       "\n",
       "  claim  duration destination  net_sales  commision gender  age  claim_num  F  \\\n",
       "0    No       186    MALAYSIA      -29.0       9.57      F   81          0  1   \n",
       "1    No       186    MALAYSIA      -29.0       9.57      F   71          0  1   \n",
       "2    No        65   AUSTRALIA      -49.5      29.70    NaN   32          0  0   \n",
       "3    No        60   AUSTRALIA      -39.6      23.76    NaN   32          0  0   \n",
       "4    No        79       ITALY      -19.8      11.88    NaN   41          0  0   \n",
       "\n",
       "   M  destination_freq  \n",
       "0  0          0.093642  \n",
       "1  0          0.093642  \n",
       "2  0          0.058333  \n",
       "3  0          0.058333  \n",
       "4  0          0.007185  "
      ]
     },
     "execution_count": 9,
     "metadata": {},
     "output_type": "execute_result"
    }
   ],
   "source": [
    "df.head()"
   ]
  },
  {
   "cell_type": "markdown",
   "metadata": {},
   "source": [
    "### Adjusting Skewness in Duration\n",
    "\n",
    "To keep things simple, any duration values less than 1 or greater than 190 (95th percential) will be dropped. This is due to suspected issues with data.\n",
    "\n",
    "Following this, a natural log transformation will be applied to duraiton to remove skewness."
   ]
  },
  {
   "cell_type": "code",
   "execution_count": 10,
   "metadata": {},
   "outputs": [],
   "source": [
    "df = df.loc[(df.duration > 0) & (df.duration < 190)]"
   ]
  },
  {
   "cell_type": "code",
   "execution_count": 11,
   "metadata": {},
   "outputs": [],
   "source": [
    "df['log_duration'] = np.log(df.duration)"
   ]
  },
  {
   "cell_type": "code",
   "execution_count": 12,
   "metadata": {},
   "outputs": [
    {
     "data": {
      "text/plain": [
       "<AxesSubplot:xlabel='duration', ylabel='Density'>"
      ]
     },
     "execution_count": 12,
     "metadata": {},
     "output_type": "execute_result"
    },
    {
     "data": {
      "image/png": "[encoded data removed]",
      "text/plain": [
       "<Figure size 432x288 with 1 Axes>"
      ]
     },
     "metadata": {
      "needs_background": "light"
     },
     "output_type": "display_data"
    }
   ],
   "source": [
    "sns.distplot(df.duration)"
   ]
  },
  {
   "cell_type": "code",
   "execution_count": 13,
   "metadata": {},
   "outputs": [
    {
     "data": {
      "text/plain": [
       "<AxesSubplot:xlabel='log_duration', ylabel='Density'>"
      ]
     },
     "execution_count": 13,
     "metadata": {},
     "output_type": "execute_result"
    },
    {
     "data": {
      "image/png": "[encoded data removed]",
      "text/plain": [
       "<Figure size 432x288 with 1 Axes>"
      ]
     },
     "metadata": {
      "needs_background": "light"
     },
     "output_type": "display_data"
    }
   ],
   "source": [
    "sns.distplot(df.log_duration)"
   ]
  },
  {
   "cell_type": "markdown",
   "metadata": {},
   "source": [
    "### Final data prep\n",
    "The pandas profiling report indicated there was a degree of correlation between some categorical variables:\n",
    "- agency and agency_type\n",
    "- agency and distribution channel\n",
    "- agency and product type\n",
    "- product name and agency_type, distribution channel, and agency\n",
    "\n",
    "Generally, the above suggests agencies likely specialize in offerings. For the purpose of modeling, only the following categorical variables will be kept:\n",
    "- agency type (Airlines / Travel Agency)\n",
    "- Distribution Channel (Online / Offline)\n",
    "\n",
    "Product Name is being exluded due to lack of understanding. It is reasonable that these products should have a meaningful groupings, but we don't have apriori knowledge on this. As an exploratory step, we'll finish this analysis with an explortory model with all product names included as predictors. \n",
    "\n",
    "The final step of data preperation will convert categorical variables into numberic variables, as required for modeling. These will be automatically processed using "
   ]
  },
  {
   "cell_type": "code",
   "execution_count": 14,
   "metadata": {},
   "outputs": [],
   "source": [
    "#making categorical column ready for model fitting\n",
    "agency_type_dummy = pd.get_dummies(df['agency_type'])\n",
    "dist_chan_type_dummy = pd.get_dummies(df['distribution_channel'])\n",
    "\n",
    "df = pd.concat([df,agency_type_dummy,dist_chan_type_dummy], axis = 1)"
   ]
  },
  {
   "cell_type": "markdown",
   "metadata": {},
   "source": [
    "Clean up some of the features after processing"
   ]
  },
  {
   "cell_type": "code",
   "execution_count": 15,
   "metadata": {},
   "outputs": [],
   "source": [
    "drop_cols = ['agency_type', 'distribution_channel', 'gender', 'destination', \n",
    "             'product_name', 'agency', 'claim','claim_num', 'duration']\n",
    "\n",
    "X = df.drop(drop_cols, axis = 1)\n"
   ]
  },
  {
   "cell_type": "code",
   "execution_count": 16,
   "metadata": {},
   "outputs": [
    {
     "data": {
      "text/plain": [
       "0    59371\n",
       "1      716\n",
       "Name: claim_num, dtype: int64"
      ]
     },
     "execution_count": 16,
     "metadata": {},
     "output_type": "execute_result"
    }
   ],
   "source": [
    "y = df['claim_num']\n",
    "y.value_counts()"
   ]
  },
  {
   "cell_type": "markdown",
   "metadata": {},
   "source": [
    "### Add interaction terms for additional features"
   ]
  },
  {
   "cell_type": "code",
   "execution_count": 17,
   "metadata": {},
   "outputs": [],
   "source": [
    "X['male_x_age'] = X.age * X.M\n",
    "X['female_x_age']  = X.age * X.F\n",
    "X['dest_freq_x_log_duration'] = X.destination_freq * X.log_duration\n",
    "X.reset_index(inplace = True, drop = True)"
   ]
  },
  {
   "cell_type": "markdown",
   "metadata": {},
   "source": [
    "#### Apply min max scaling to prep model for random forest algorithim"
   ]
  },
  {
   "cell_type": "code",
   "execution_count": 18,
   "metadata": {},
   "outputs": [],
   "source": [
    "# Scale only columns that have values greater than 1\n",
    "to_scale = [col for col in X.columns if X[col].max() > 1]\n",
    "mms = MinMaxScaler()\n",
    "to_scale\n",
    "scaled = mms.fit_transform(X[to_scale])\n",
    "scaled = pd.DataFrame(scaled, columns=to_scale)\n",
    "\n",
    "#Replace original columns with scaled ones\n",
    "for col in scaled:\n",
    "    X[col] = scaled[col]"
   ]
  },
  {
   "cell_type": "code",
   "execution_count": 19,
   "metadata": {},
   "outputs": [],
   "source": [
    "X_train, X_test, y_train, y_test = train_test_split(X, y, test_size=0.25, random_state=8187)"
   ]
  },
  {
   "cell_type": "markdown",
   "metadata": {},
   "source": [
    "### Check to ensure rate of claims is similar between test and train sets\n"
   ]
  },
  {
   "cell_type": "code",
   "execution_count": 20,
   "metadata": {},
   "outputs": [
    {
     "name": "stdout",
     "output_type": "stream",
     "text": [
      "Positive class in Train = 1.18%\n",
      "Positive class in Test  = 1.22%\n"
     ]
    }
   ],
   "source": [
    "print(f'''Positive class in Train = {np.round(y_train.value_counts(normalize=True)[1] * 100, 2)}%\n",
    "Positive class in Test  = {np.round(y_test.value_counts(normalize=True)[1] * 100, 2)}%''')"
   ]
  },
  {
   "cell_type": "code",
   "execution_count": 21,
   "metadata": {},
   "outputs": [],
   "source": [
    "mod_base = RandomForestClassifier(random_state = 8187)\n",
    "mod_base = mod_base.fit(X_train, y_train)\n",
    "preds = mod_base.predict(X_test)"
   ]
  },
  {
   "cell_type": "code",
   "execution_count": 22,
   "metadata": {},
   "outputs": [
    {
     "name": "stdout",
     "output_type": "stream",
     "text": [
      "Accuracy = 0.99\n",
      "Recall = 0.01\n",
      "\n"
     ]
    },
    {
     "data": {
      "image/png": "[encoded data removed]",
      "text/plain": [
       "<Figure size 576x432 with 2 Axes>"
      ]
     },
     "metadata": {
      "needs_background": "light"
     },
     "output_type": "display_data"
    }
   ],
   "source": [
    "# Evaluate\n",
    "print(f'Accuracy = {accuracy_score(y_test, preds):.2f}\\nRecall = {recall_score(y_test, preds):.2f}\\n')\n",
    "cm = confusion_matrix(y_test, preds)\n",
    "plt.figure(figsize=(8, 6))\n",
    "plt.title('Confusion Matrix (without Balancing cases)', size=16)\n",
    "sns.heatmap(cm, annot=True, cmap='Blues');"
   ]
  },
  {
   "cell_type": "markdown",
   "metadata": {},
   "source": [
    "Unsurprisingly, the model has very high accuracy (easy to guess no claim), but does an exceptionally poor job at correctly predicting when a claim will be filed (about 2% as indicated by recall). \n",
    "\n",
    "Let's try the model again, but this time using SMOTE to try to create additional simulated cases of filed claims. \n",
    "- For more information on SMOTE technique see a more detailed explanation at https://machinelearningmastery.com/smote-oversampling-for-imbalanced-classification/"
   ]
  },
  {
   "cell_type": "code",
   "execution_count": 23,
   "metadata": {},
   "outputs": [
    {
     "name": "stdout",
     "output_type": "stream",
     "text": [
      "Shape of X before SMOTE: (60087, 14)\n",
      "Shape of X after SMOTE: (118742, 14)\n",
      "\n",
      "Balance of positive and negative classes (%):\n"
     ]
    },
    {
     "data": {
      "text/plain": [
       "1    50.0\n",
       "0    50.0\n",
       "Name: claim_num, dtype: float64"
      ]
     },
     "execution_count": 23,
     "metadata": {},
     "output_type": "execute_result"
    }
   ],
   "source": [
    "smote = SMOTE(random_state=8187)\n",
    "X_smoted, y_smoted = smote.fit_resample(X, y)\n",
    "print(f'''Shape of X before SMOTE: {X.shape}\n",
    "Shape of X after SMOTE: {X_smoted.shape}''')\n",
    "print('\\nBalance of positive and negative classes (%):')\n",
    "y_smoted.value_counts(normalize=True) * 100"
   ]
  },
  {
   "cell_type": "code",
   "execution_count": 24,
   "metadata": {},
   "outputs": [
    {
     "name": "stdout",
     "output_type": "stream",
     "text": [
      "Accuracy = 0.98\n",
      "Recall = 0.98\n",
      "\n"
     ]
    },
    {
     "data": {
      "image/png": "[encoded data removed]",
      "text/plain": [
       "<Figure size 576x432 with 2 Axes>"
      ]
     },
     "metadata": {
      "needs_background": "light"
     },
     "output_type": "display_data"
    }
   ],
   "source": [
    "X_train_sm, X_test_sm, y_train_sm, y_test_sm = train_test_split(\n",
    "    X_smoted, y_smoted, test_size=0.25, random_state=8187\n",
    ")\n",
    "\n",
    "mod_smote = RandomForestClassifier(random_state=8187)\n",
    "mod_smote.fit(X_train_sm, y_train_sm)\n",
    "preds_sm = mod_smote.predict(X_test_sm)\n",
    "\n",
    "print(f'Accuracy = {accuracy_score(y_test_sm, preds_sm):.2f}\\nRecall = {recall_score(y_test_sm, preds_sm):.2f}\\n')\n",
    "cm = confusion_matrix(y_test_sm, preds_sm)\n",
    "plt.figure(figsize=(8, 6))\n",
    "plt.title('Confusion Matrix (with SMOTE)', size=16)\n",
    "sns.heatmap(cm, annot=True, cmap='Blues');"
   ]
  },
  {
   "cell_type": "markdown",
   "metadata": {},
   "source": [
    "### Now try the new model applied to the orginal test data. \n",
    "This will help to understand if SMOTE is introducing some artifacts inflating model performance, or if it is generally increasing the ability of our model to successfully identify claimed policies. \n",
    "- this isn't perfect as there is likely some data leakage, but an interesting exercise. "
   ]
  },
  {
   "cell_type": "code",
   "execution_count": 25,
   "metadata": {},
   "outputs": [
    {
     "name": "stdout",
     "output_type": "stream",
     "text": [
      "Accuracy = 0.99\n",
      "Recall = 0.80\n",
      "\n"
     ]
    },
    {
     "data": {
      "image/png": "[encoded data removed]",
      "text/plain": [
       "<Figure size 576x432 with 2 Axes>"
      ]
     },
     "metadata": {
      "needs_background": "light"
     },
     "output_type": "display_data"
    }
   ],
   "source": [
    "preds_sm_orginal_model = mod_smote.predict(X_test)\n",
    "print(f'Accuracy = {accuracy_score(y_test, preds_sm_orginal_model):.2f}\\nRecall = {recall_score(y_test, preds_sm_orginal_model):.2f}\\n')\n",
    "\n",
    "cm = confusion_matrix(y_test, preds_sm_orginal_model)\n",
    "plt.figure(figsize=(8, 6))\n",
    "plt.title('Confusion Matrix (with SMOTE)', size=16)\n",
    "sns.heatmap(cm, annot=True, cmap='Blues');"
   ]
  },
  {
   "cell_type": "markdown",
   "metadata": {},
   "source": [
    "Note the overwhelming number of predictions are that a claim is not filed, which is expected as most.  \n",
    "However, there is a dramatic improvement in the model's ability to correctly identify claims actually filed. Model performance increased from predicting 2% -> 80% of filed claims correctly. "
   ]
  },
  {
   "cell_type": "markdown",
   "metadata": {},
   "source": [
    "## Conclusion\n",
    "The model devloped here does a relatively good job of recovering and predicting when a policy may result in a claim being filed. The main finding demonstrated in this simple case study is that methods for dealing with class imbalance appear to be incredibly valuable to this space. Claims are relatively rare, so utilizing methods that intelligently create new synthetic cases can help to dramatically increase model performance. \n",
    "\n",
    "It is important to note that this is a relatively simple model, and more work would be needed before introducing into a production environment. For exmaple:\n",
    "- Better understanding of destination biases in data. Singapore appeared to have a much higher incidence of claims being filed compared to other cases. \n",
    "- User level characteristics beyond basic demographics and age, may help to shed light on additional factors. \n",
    "- Understanding representativeness of agencies used in creating this data set."
   ]
  },
  {
   "cell_type": "code",
   "execution_count": null,
   "metadata": {},
   "outputs": [],
   "source": []
  }
 ],
 "metadata": {
  "kernelspec": {
   "display_name": "Python 3",
   "language": "python",
   "name": "python3"
  },
  "language_info": {
   "codemirror_mode": {
    "name": "ipython",
    "version": 3
   },
   "file_extension": ".py",
   "mimetype": "text/x-python",
   "name": "python",
   "nbconvert_exporter": "python",
   "pygments_lexer": "ipython3",
   "version": "3.8.5"
  }
 },
 "nbformat": 4,
 "nbformat_minor": 4
}
